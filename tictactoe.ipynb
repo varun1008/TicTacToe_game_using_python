{
 "cells": [
  {
   "cell_type": "markdown",
   "metadata": {},
   "source": [
    "TIC TAC TOE GAME"
   ]
  },
  {
   "cell_type": "code",
   "execution_count": 182,
   "metadata": {},
   "outputs": [],
   "source": [
    "board = [\"\",\"\",\"\",\"\",\"\",\"\",\"\",\"\",\"\"]"
   ]
  },
  {
   "cell_type": "code",
   "execution_count": 15,
   "metadata": {},
   "outputs": [],
   "source": [
    "def chooseMarker():\n",
    "    print(\"Player 1 Choose between X / O\")\n",
    "    p1choice = input()\n",
    "    while (p1choice != \"X\") and (p1choice != \"O\") and (p1choice != \"x\") and (p1choice != \"o\"):\n",
    "        print(\"Wrong choice!\")\n",
    "        p1choice = input()\n",
    "    print(f\"Player1 choose {p1choice.upper()}\") \n",
    "    if p1choice.upper() == \"X\":\n",
    "        p2choice = \"O\"\n",
    "    else:\n",
    "        p2choice = \"X\"\n",
    "    print(f\"Player2 gets {p2choice}\")    \n",
    "    return p1choice.upper(),p2choice\n",
    "    "
   ]
  },
  {
   "cell_type": "code",
   "execution_count": 16,
   "metadata": {},
   "outputs": [
    {
     "name": "stdout",
     "output_type": "stream",
     "text": [
      "Player 1 Choose between X / O\n",
      "o\n",
      "Player1 choose O\n",
      "Player2 gets X\n"
     ]
    }
   ],
   "source": [
    "p1,p2 = chooseMarker()"
   ]
  },
  {
   "cell_type": "code",
   "execution_count": 17,
   "metadata": {},
   "outputs": [
    {
     "data": {
      "text/plain": [
       "'O'"
      ]
     },
     "execution_count": 17,
     "metadata": {},
     "output_type": "execute_result"
    }
   ],
   "source": [
    "p1"
   ]
  },
  {
   "cell_type": "code",
   "execution_count": 18,
   "metadata": {},
   "outputs": [
    {
     "data": {
      "text/plain": [
       "'X'"
      ]
     },
     "execution_count": 18,
     "metadata": {},
     "output_type": "execute_result"
    }
   ],
   "source": [
    "p2"
   ]
  },
  {
   "cell_type": "code",
   "execution_count": 200,
   "metadata": {},
   "outputs": [],
   "source": [
    "from random import randint\n",
    "def chooseWhoGoesFirst():\n",
    "    num = randint(1,2)\n",
    "    if num == 1:\n",
    "        return \"Player1\"\n",
    "    else:\n",
    "        return \"Player2\""
   ]
  },
  {
   "cell_type": "code",
   "execution_count": 204,
   "metadata": {},
   "outputs": [
    {
     "data": {
      "text/plain": [
       "'Player1'"
      ]
     },
     "execution_count": 204,
     "metadata": {},
     "output_type": "execute_result"
    }
   ],
   "source": [
    "chooseWhoGoesFirst()"
   ]
  },
  {
   "cell_type": "code",
   "execution_count": 202,
   "metadata": {},
   "outputs": [],
   "source": [
    "def displayBoard(board):\n",
    "    print(f\"\\n\\t{board[0]}\\t|\\t{board[1]}\\t|\\t{board[2]}\\t\\n\\t{board[3]}\\t|\\t{board[4]}\\t|\\t{board[5]}\\t\\n\\t{board[6]}\\t|\\t{board[7]}\\t|\\t{board[8]}\\t\\n\")"
   ]
  },
  {
   "cell_type": "code",
   "execution_count": 144,
   "metadata": {},
   "outputs": [
    {
     "name": "stdout",
     "output_type": "stream",
     "text": [
      "\t\t|\t\t|\t\t\n",
      "\tX\t|\tO\t|\t\t\n",
      "\t\t|\t\t|\t\t\n",
      "\n"
     ]
    }
   ],
   "source": [
    "displayBoard()"
   ]
  },
  {
   "cell_type": "code",
   "execution_count": 194,
   "metadata": {},
   "outputs": [],
   "source": [
    "def insertMarker(pmarker,pos,board):\n",
    "    board[pos-1] = pmarker\n",
    "    displayBoard(board)"
   ]
  },
  {
   "cell_type": "code",
   "execution_count": 146,
   "metadata": {},
   "outputs": [
    {
     "name": "stdout",
     "output_type": "stream",
     "text": [
      "\t\t|\t\t|\tO\t\n",
      "\tX\t|\tO\t|\t\t\n",
      "\tO\t|\t\t|\t\t\n",
      "\n"
     ]
    }
   ],
   "source": [
    "insertMarker(\"O\",3)"
   ]
  },
  {
   "cell_type": "code",
   "execution_count": 189,
   "metadata": {},
   "outputs": [],
   "source": [
    "def checkChoice(p,pm,board):\n",
    "    print(f\"{p} select the position to place your marker\")\n",
    "    c = int(input())\n",
    "    while c>9 or board[c-1] != \"\":\n",
    "        print(\"Incorrect marker placement\")\n",
    "        c = int(input())\n",
    "    insertMarker(pm,c,board)    \n",
    "        \n",
    "    "
   ]
  },
  {
   "cell_type": "code",
   "execution_count": 165,
   "metadata": {},
   "outputs": [
    {
     "name": "stdout",
     "output_type": "stream",
     "text": [
      "Player2 select the position to place your marker\n",
      "2\n",
      "\n",
      "\tO\t|\tO\t|\t\t\n",
      "\t\t|\tX\t|\t\t\n",
      "\t\t|\tX\t|\tO\t\n",
      "\n"
     ]
    }
   ],
   "source": [
    "checkChoice(\"Player2\",\"O\")"
   ]
  },
  {
   "cell_type": "code",
   "execution_count": 198,
   "metadata": {},
   "outputs": [],
   "source": [
    "def checkNoWin(board,p,pm):\n",
    "    if (board[0]==board[1]==board[2]==pm) or (board[3]==board[4]==board[5]==pm) or (board[6]==board[7]==board[8]==pm) or (board[0]==board[3]==board[6]==pm) or (board[1]==board[4]==board[7]==pm) or (board[2]==board[5]==board[8]==pm) or (board[0]==board[4]==board[8]==pm) or (board[2]==board[4]==board[6]==pm) :\n",
    "        print(f\"{p} won!!!\")\n",
    "        return False\n",
    "    elif len(list(filter(lambda i : i == \"\" ,board))) == 0:\n",
    "        print(\"Game is a Draw\")\n",
    "        return False\n",
    "    else:\n",
    "        return True"
   ]
  },
  {
   "cell_type": "code",
   "execution_count": 186,
   "metadata": {},
   "outputs": [
    {
     "name": "stdout",
     "output_type": "stream",
     "text": [
      "Player2 won!!!\n"
     ]
    },
    {
     "data": {
      "text/plain": [
       "False"
      ]
     },
     "execution_count": 186,
     "metadata": {},
     "output_type": "execute_result"
    }
   ],
   "source": [
    "checkNoWin(board,\"Player2\",\"O\")"
   ]
  },
  {
   "cell_type": "code",
   "execution_count": 191,
   "metadata": {},
   "outputs": [],
   "source": [
    "def ticTacToe():\n",
    "    print(\"TIC TAC TOE\")\n",
    "    game_board = [\"\",\"\",\"\",\"\",\"\",\"\",\"\",\"\",\"\"]\n",
    "    p1,p2 = chooseMarker()\n",
    "    turn = chooseWhoGoesFirst()\n",
    "    print(f\"{turn} goes first\")\n",
    "    notWon = True\n",
    "    while notWon:\n",
    "        if turn == \"Player1\":\n",
    "            checkChoice(\"Player1\",p1,game_board)\n",
    "            notWon = checkNoWin(game_board,\"Player1\",p1)\n",
    "            turn = \"Player2\"\n",
    "        else:\n",
    "            checkChoice(\"Player2\",p2,game_board)\n",
    "            notWon = checkNoWin(game_board,\"Player2\",p2)\n",
    "            turn = \"Player1\"\n",
    "            \n",
    "    \n",
    "    "
   ]
  },
  {
   "cell_type": "code",
   "execution_count": 206,
   "metadata": {},
   "outputs": [
    {
     "name": "stdout",
     "output_type": "stream",
     "text": [
      "TIC TAC TOE\n",
      "Player 1 Choose between X / O\n",
      "x\n",
      "Player1 choose X\n",
      "Player2 gets O\n",
      "Player2 goes first\n",
      "Player2 select the position to place your marker\n",
      "5\n",
      "\n",
      "\t\t|\t\t|\t\t\n",
      "\t\t|\tO\t|\t\t\n",
      "\t\t|\t\t|\t\t\n",
      "\n",
      "Player1 select the position to place your marker\n",
      "1\n",
      "\n",
      "\tX\t|\t\t|\t\t\n",
      "\t\t|\tO\t|\t\t\n",
      "\t\t|\t\t|\t\t\n",
      "\n",
      "Player2 select the position to place your marker\n",
      "3\n",
      "\n",
      "\tX\t|\t\t|\tO\t\n",
      "\t\t|\tO\t|\t\t\n",
      "\t\t|\t\t|\t\t\n",
      "\n",
      "Player1 select the position to place your marker\n",
      "9\n",
      "\n",
      "\tX\t|\t\t|\tO\t\n",
      "\t\t|\tO\t|\t\t\n",
      "\t\t|\t\t|\tX\t\n",
      "\n",
      "Player2 select the position to place your marker\n",
      "7\n",
      "\n",
      "\tX\t|\t\t|\tO\t\n",
      "\t\t|\tO\t|\t\t\n",
      "\tO\t|\t\t|\tX\t\n",
      "\n",
      "Player2 won!!!\n"
     ]
    }
   ],
   "source": [
    "ticTacToe()"
   ]
  },
  {
   "cell_type": "code",
   "execution_count": 207,
   "metadata": {},
   "outputs": [
    {
     "name": "stdout",
     "output_type": "stream",
     "text": [
      "TIC TAC TOE\n",
      "Player 1 Choose between X / O\n",
      "x\n",
      "Player1 choose X\n",
      "Player2 gets O\n",
      "Player2 goes first\n",
      "Player2 select the position to place your marker\n",
      "6\n",
      "\n",
      "\t\t|\t\t|\t\t\n",
      "\t\t|\t\t|\tO\t\n",
      "\t\t|\t\t|\t\t\n",
      "\n",
      "Player1 select the position to place your marker\n",
      "1\n",
      "\n",
      "\tX\t|\t\t|\t\t\n",
      "\t\t|\t\t|\tO\t\n",
      "\t\t|\t\t|\t\t\n",
      "\n",
      "Player2 select the position to place your marker\n",
      "3\n",
      "\n",
      "\tX\t|\t\t|\tO\t\n",
      "\t\t|\t\t|\tO\t\n",
      "\t\t|\t\t|\t\t\n",
      "\n",
      "Player1 select the position to place your marker\n",
      "9\n",
      "\n",
      "\tX\t|\t\t|\tO\t\n",
      "\t\t|\t\t|\tO\t\n",
      "\t\t|\t\t|\tX\t\n",
      "\n",
      "Player2 select the position to place your marker\n",
      "5\n",
      "\n",
      "\tX\t|\t\t|\tO\t\n",
      "\t\t|\tO\t|\tO\t\n",
      "\t\t|\t\t|\tX\t\n",
      "\n",
      "Player1 select the position to place your marker\n",
      "4\n",
      "\n",
      "\tX\t|\t\t|\tO\t\n",
      "\tX\t|\tO\t|\tO\t\n",
      "\t\t|\t\t|\tX\t\n",
      "\n",
      "Player2 select the position to place your marker\n",
      "2\n",
      "\n",
      "\tX\t|\tO\t|\tO\t\n",
      "\tX\t|\tO\t|\tO\t\n",
      "\t\t|\t\t|\tX\t\n",
      "\n",
      "Player1 select the position to place your marker\n",
      "3\n",
      "Incorrect marker placement\n",
      "7\n",
      "\n",
      "\tX\t|\tO\t|\tO\t\n",
      "\tX\t|\tO\t|\tO\t\n",
      "\tX\t|\t\t|\tX\t\n",
      "\n",
      "Player1 won!!!\n"
     ]
    }
   ],
   "source": [
    "ticTacToe()"
   ]
  },
  {
   "cell_type": "code",
   "execution_count": 208,
   "metadata": {},
   "outputs": [
    {
     "name": "stdout",
     "output_type": "stream",
     "text": [
      "TIC TAC TOE\n",
      "Player 1 Choose between X / O\n",
      "o\n",
      "Player1 choose O\n",
      "Player2 gets X\n",
      "Player1 goes first\n",
      "Player1 select the position to place your marker\n",
      "1\n",
      "\n",
      "\tO\t|\t\t|\t\t\n",
      "\t\t|\t\t|\t\t\n",
      "\t\t|\t\t|\t\t\n",
      "\n",
      "Player2 select the position to place your marker\n",
      "5\n",
      "\n",
      "\tO\t|\t\t|\t\t\n",
      "\t\t|\tX\t|\t\t\n",
      "\t\t|\t\t|\t\t\n",
      "\n",
      "Player1 select the position to place your marker\n",
      "7\n",
      "\n",
      "\tO\t|\t\t|\t\t\n",
      "\t\t|\tX\t|\t\t\n",
      "\tO\t|\t\t|\t\t\n",
      "\n",
      "Player2 select the position to place your marker\n",
      "4\n",
      "\n",
      "\tO\t|\t\t|\t\t\n",
      "\tX\t|\tX\t|\t\t\n",
      "\tO\t|\t\t|\t\t\n",
      "\n",
      "Player1 select the position to place your marker\n",
      "6\n",
      "\n",
      "\tO\t|\t\t|\t\t\n",
      "\tX\t|\tX\t|\tO\t\n",
      "\tO\t|\t\t|\t\t\n",
      "\n",
      "Player2 select the position to place your marker\n",
      "2\n",
      "\n",
      "\tO\t|\tX\t|\t\t\n",
      "\tX\t|\tX\t|\tO\t\n",
      "\tO\t|\t\t|\t\t\n",
      "\n",
      "Player1 select the position to place your marker\n",
      "8\n",
      "\n",
      "\tO\t|\tX\t|\t\t\n",
      "\tX\t|\tX\t|\tO\t\n",
      "\tO\t|\tO\t|\t\t\n",
      "\n",
      "Player2 select the position to place your marker\n",
      "9\n",
      "\n",
      "\tO\t|\tX\t|\t\t\n",
      "\tX\t|\tX\t|\tO\t\n",
      "\tO\t|\tO\t|\tX\t\n",
      "\n",
      "Player1 select the position to place your marker\n",
      "3\n",
      "\n",
      "\tO\t|\tX\t|\tO\t\n",
      "\tX\t|\tX\t|\tO\t\n",
      "\tO\t|\tO\t|\tX\t\n",
      "\n",
      "Game is a Draw\n"
     ]
    }
   ],
   "source": [
    "ticTacToe()"
   ]
  },
  {
   "cell_type": "code",
   "execution_count": 209,
   "metadata": {},
   "outputs": [
    {
     "name": "stdout",
     "output_type": "stream",
     "text": [
      "TIC TAC TOE\n",
      "Player 1 Choose between X / O\n",
      "X\n",
      "Player1 choose X\n",
      "Player2 gets O\n",
      "Player2 goes first\n",
      "Player2 select the position to place your marker\n",
      "5\n",
      "\n",
      "\t\t|\t\t|\t\t\n",
      "\t\t|\tO\t|\t\t\n",
      "\t\t|\t\t|\t\t\n",
      "\n",
      "Player1 select the position to place your marker\n",
      "9\n",
      "\n",
      "\t\t|\t\t|\t\t\n",
      "\t\t|\tO\t|\t\t\n",
      "\t\t|\t\t|\tX\t\n",
      "\n",
      "Player2 select the position to place your marker\n",
      "2\n",
      "\n",
      "\t\t|\tO\t|\t\t\n",
      "\t\t|\tO\t|\t\t\n",
      "\t\t|\t\t|\tX\t\n",
      "\n",
      "Player1 select the position to place your marker\n",
      "8\n",
      "\n",
      "\t\t|\tO\t|\t\t\n",
      "\t\t|\tO\t|\t\t\n",
      "\t\t|\tX\t|\tX\t\n",
      "\n",
      "Player2 select the position to place your marker\n",
      "7\n",
      "\n",
      "\t\t|\tO\t|\t\t\n",
      "\t\t|\tO\t|\t\t\n",
      "\tO\t|\tX\t|\tX\t\n",
      "\n",
      "Player1 select the position to place your marker\n",
      "3\n",
      "\n",
      "\t\t|\tO\t|\tX\t\n",
      "\t\t|\tO\t|\t\t\n",
      "\tO\t|\tX\t|\tX\t\n",
      "\n",
      "Player2 select the position to place your marker\n",
      "1\n",
      "\n",
      "\tO\t|\tO\t|\tX\t\n",
      "\t\t|\tO\t|\t\t\n",
      "\tO\t|\tX\t|\tX\t\n",
      "\n",
      "Player1 select the position to place your marker\n",
      "4\n",
      "\n",
      "\tO\t|\tO\t|\tX\t\n",
      "\tX\t|\tO\t|\t\t\n",
      "\tO\t|\tX\t|\tX\t\n",
      "\n",
      "Player2 select the position to place your marker\n",
      "6\n",
      "\n",
      "\tO\t|\tO\t|\tX\t\n",
      "\tX\t|\tO\t|\tO\t\n",
      "\tO\t|\tX\t|\tX\t\n",
      "\n",
      "Game is a Draw\n"
     ]
    }
   ],
   "source": [
    "ticTacToe()"
   ]
  },
  {
   "cell_type": "code",
   "execution_count": null,
   "metadata": {},
   "outputs": [],
   "source": []
  }
 ],
 "metadata": {
  "kernelspec": {
   "display_name": "Python 3",
   "language": "python",
   "name": "python3"
  },
  "language_info": {
   "codemirror_mode": {
    "name": "ipython",
    "version": 3
   },
   "file_extension": ".py",
   "mimetype": "text/x-python",
   "name": "python",
   "nbconvert_exporter": "python",
   "pygments_lexer": "ipython3",
   "version": "3.7.4"
  }
 },
 "nbformat": 4,
 "nbformat_minor": 2
}
